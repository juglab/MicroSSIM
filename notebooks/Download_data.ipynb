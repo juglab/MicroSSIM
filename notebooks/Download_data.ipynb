{
 "cells": [
  {
   "cell_type": "markdown",
   "metadata": {},
   "source": [
    "# Download Data\n",
    "\n",
    "This notebook allows downloading the data used in the MicroSSIM paper and the\n",
    "reproducibility notebooks. The data was originally published by Hagen et al (Actin and\n",
    "Mito datasets).\n",
    "\n",
    "References:\n",
    "\n",
    "Hagen, G. M., Bendesky, J., Machado, R., Nguyen, T. A., Kumar, T., & Ventura, J. (2021). Fluorescence microscopy datasets for training deep neural networks. GigaScience, 10(5), giab032. https://doi.org/10.5524/100888"
   ]
  },
  {
   "cell_type": "code",
   "execution_count": null,
   "metadata": {},
   "outputs": [],
   "source": [
    "# We use pooch to download the data\n",
    "import pooch"
   ]
  },
  {
   "cell_type": "markdown",
   "metadata": {},
   "source": [
    "## Actin dataset\n",
    "\n",
    "The data is composed of a ground-truth image of the actin cytoskeleton of many cells (high signal-to-noise ratio) \n",
    "and a corresponding set of noisy images (low signal-to-noise ratio). We trained N2V on the noisy images and\n",
    "applied it in order to obtain a prediction image."
   ]
  },
  {
   "cell_type": "code",
   "execution_count": null,
   "metadata": {},
   "outputs": [],
   "source": [
    "actin_lowsnr = pooch.retrieve(\n",
    "    url=\"https://download.fht.org/jug/microssim/N2V/Actin/actin-60x-noise2-lowsnr.tif\",\n",
    "    known_hash=\"8f9ee6e14e348e52c6fa5b05bce8a253981d81004870380d21cc37343b562fff\",\n",
    "    path = \"data\"\n",
    ")\n",
    "\n",
    "actin_gt = pooch.retrieve(\n",
    "    url=\"https://download.fht.org/jug/microssim/N2V/Actin/gt-N2V-2402-31.tif\",\n",
    "    known_hash=\"55bf2bebfe88eb52d6e82db68f3492b78a7cf22b544b93b11c18a578d189560d\",\n",
    "    path = \"data\"\n",
    ")\n",
    "\n",
    "actin_pred = pooch.retrieve(\n",
    "    url=\"https://download.fht.org/jug/microssim/N2V/Actin/pred-N2V-2402-31.tif\",\n",
    "    known_hash=\"67db7a5e7ca6a83cf29b24145bd97efddf4436bcee417f5098afcbd5bfd36f0c\",\n",
    "    path = \"data\"\n",
    ")"
   ]
  },
  {
   "cell_type": "markdown",
   "metadata": {},
   "source": [
    "## Mito dataset\n",
    "\n",
    "The data is composed of a ground-truth image of the mitochondria of many cells (high signal-to-noise ratio)\n",
    "and a corresponding set of noisy images (low signal-to-noise ratio). We trained N2V on the noisy images and\n",
    "applied it in order to obtain a prediction image."
   ]
  },
  {
   "cell_type": "code",
   "execution_count": null,
   "metadata": {},
   "outputs": [],
   "source": [
    "mito_lowsnr = pooch.retrieve(\n",
    "    url=\"https://download.fht.org/jug/microssim/N2V/Mito/mito-60x-noise2-lowsnr.tif\",\n",
    "    known_hash=\"03b2735cbd3292b04ffc286b00638581fc393b1632f0989a66a0c2e3834648cc\",\n",
    "    path = \"data\"\n",
    ")\n",
    "\n",
    "mito_gt = pooch.retrieve(\n",
    "    url=\"https://download.fht.org/jug/microssim/N2V/Mito/gt-N2V-2402-29.tif\",\n",
    "    known_hash=\"c44af186413a1cfac54f14ee3f517a9669aa2932069b1800b75ca64398cd499f\",\n",
    "    path = \"data\"\n",
    ")\n",
    "\n",
    "mito_pred = pooch.retrieve(\n",
    "    url=\"https://download.fht.org/jug/microssim/N2V/Mito/pred-N2V-2402-29.tif\",\n",
    "    known_hash=\"c8b98e11b429bac96841a24946152838d6d434555e4075e605e51cbd95b0caa5\",\n",
    "    path = \"data\"\n",
    ")"
   ]
  },
  {
   "cell_type": "markdown",
   "metadata": {},
   "source": [
    "## denoiSplit Actin dataset\n",
    "\n",
    "This is a subset of the Hagen et al Actin dataset."
   ]
  },
  {
   "cell_type": "code",
   "execution_count": null,
   "metadata": {},
   "outputs": [],
   "source": [
    "denoisplit_actin_highsnr = pooch.retrieve(\n",
    "    url=\"https://download.fht.org/jug/microssim/denoiSplit/Actin_HighSNR.tif\",\n",
    "    known_hash=\"9c45d10f9974245321e8d23e5637336c223479df1fcf7d67d763d9c0ce6ca4a3\",\n",
    "    path = \"data\"\n",
    ")\n",
    "\n",
    "denoisplit_actin_pred = pooch.retrieve(\n",
    "    url=\"https://download.fht.org/jug/microssim/denoiSplit/Actin_pred.tif\",\n",
    "    known_hash=\"bb473591227af5a8794243f4e7687f3ef2c55e5f87a5456a7c3a302aba9fd766\",\n",
    "    path = \"data\"\n",
    ")"
   ]
  },
  {
   "cell_type": "markdown",
   "metadata": {},
   "source": [
    "## denoiSplit Mito dataset\n",
    "\n",
    "This is a subset of the Hagen et al Mito dataset."
   ]
  },
  {
   "cell_type": "code",
   "execution_count": null,
   "metadata": {},
   "outputs": [],
   "source": [
    "denoisplit_mito_highsnr = pooch.retrieve(\n",
    "    url=\"https://download.fht.org/jug/microssim/denoiSplit/Mito_HighSNR.tif\",\n",
    "    known_hash=\"c7078b16d0251d52a38ed46eadb0c0264133b6b1c25881212a274fefe2ddbdee\",\n",
    "    path = \"data\"\n",
    ")\n",
    "\n",
    "denoisplit_mito_pred = pooch.retrieve(\n",
    "    url=\"https://download.fht.org/jug/microssim/denoiSplit/Mito_pred.tif\",\n",
    "    known_hash=\"1348d417c1e806fdd0ae82f0b3e2bafb51ad787b1543330dd31d1c0bf5a125a0\",\n",
    "    path = \"data\"\n",
    ")"
   ]
  }
 ],
 "metadata": {
  "kernelspec": {
   "display_name": "rissim",
   "language": "python",
   "name": "python3"
  },
  "language_info": {
   "codemirror_mode": {
    "name": "ipython",
    "version": 3
   },
   "file_extension": ".py",
   "mimetype": "text/x-python",
   "name": "python",
   "nbconvert_exporter": "python",
   "pygments_lexer": "ipython3",
   "version": "3.10.14"
  }
 },
 "nbformat": 4,
 "nbformat_minor": 2
}
