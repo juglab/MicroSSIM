{
 "cells": [
  {
   "cell_type": "code",
   "execution_count": 1,
   "metadata": {},
   "outputs": [],
   "source": [
    "from ri_ssim.rims_ssim import micro_MS_SSIM\n",
    "from ri_ssim import micro_SSIM"
   ]
  },
  {
   "cell_type": "code",
   "execution_count": 2,
   "metadata": {},
   "outputs": [],
   "source": [
    "from disentangle.core.tiff_reader import load_tiff\n",
    "\n",
    "gt_path = '/group/jug/ashesh/ri_ssim/gt-N2V-2402-31.tif'\n",
    "pred_path = '/group/jug/ashesh/ri_ssim/pred-N2V-2402-31.tif'\n",
    "noisy_gt_path = '/group/jug/ashesh/data/ventura_gigascience/actin-60x-noise2-lowsnr.tif'\n",
    "\n",
    "\n",
    "gt = load_tiff(gt_path)\n",
    "pred = load_tiff(pred_path)\n",
    "gt_lowsnr = load_tiff(noisy_gt_path)"
   ]
  },
  {
   "cell_type": "code",
   "execution_count": 3,
   "metadata": {},
   "outputs": [
    {
     "data": {
      "text/plain": [
       "(100, 2048, 2048)"
      ]
     },
     "execution_count": 3,
     "metadata": {},
     "output_type": "execute_result"
    }
   ],
   "source": [
    "gt.shape"
   ]
  },
  {
   "cell_type": "code",
   "execution_count": 4,
   "metadata": {},
   "outputs": [
    {
     "name": "stdout",
     "output_type": "stream",
     "text": [
      "0.8087280845276335\n"
     ]
    }
   ],
   "source": [
    "idx = 0 \n",
    "gt_tmp = gt[idx]\n",
    "pred_tmp = pred[idx]\n",
    "print(micro_SSIM(gt_tmp, pred_tmp, ri_factor=None, data_range=gt_tmp.max() - gt_tmp.min()))\n"
   ]
  },
  {
   "cell_type": "code",
   "execution_count": 5,
   "metadata": {},
   "outputs": [],
   "source": [
    "from ri_ssim.rims_ssim import * \n",
    "def micro_MS_SSIM(\n",
    "    target_img,\n",
    "    pred_img,\n",
    "    *,\n",
    "    betas=(0.0448, 0.2856, 0.3001, 0.2363, 0.1333),\n",
    "    win_size=None,\n",
    "    data_range=None,\n",
    "    channel_axis=None,\n",
    "    gaussian_weights=False,\n",
    "    ri_factor: Union[float, None] = None,\n",
    "    return_individual_components: bool = False,\n",
    "    **kwargs,\n",
    "):\n",
    "    mcs_list = []\n",
    "    for _ in range(len(betas)):\n",
    "        ssim_dict = structural_similarity_dict(\n",
    "            target_img,\n",
    "            pred_img,\n",
    "            win_size=win_size,\n",
    "            data_range=data_range,\n",
    "            channel_axis=channel_axis,\n",
    "            gaussian_weights=gaussian_weights,\n",
    "            **kwargs,\n",
    "        )\n",
    "        if ri_factor is None:\n",
    "            ri_factor = get_ri_factor(ssim_dict)\n",
    "        \n",
    "        ux, uy, vx, vy, vxy, C1, C2 = (\n",
    "            ssim_dict[\"ux\"],\n",
    "            ssim_dict[\"uy\"],\n",
    "            ssim_dict[\"vx\"],\n",
    "            ssim_dict[\"vy\"],\n",
    "            ssim_dict[\"vxy\"],\n",
    "            ssim_dict[\"C1\"],\n",
    "            ssim_dict[\"C2\"],\n",
    "        )\n",
    "        A1, A2, B1, B2 = (\n",
    "            2 * ri_factor * ux * uy + C1,\n",
    "            2 * ri_factor * vxy + C2,\n",
    "            ux**2 + (ri_factor**2) * uy**2 + C1,\n",
    "            vx + (ri_factor**2) * vy + C2,\n",
    "        )\n",
    "        assert A1.shape == A2.shape == B1.shape == B2.shape\n",
    "        assert len(A1.shape) == 2\n",
    "        sim = (A1/B1).mean().reshape(1,)\n",
    "        contrast_sensitivity = (A2/B2).mean().reshape(1,)\n",
    "\n",
    "        mcs_list.append(contrast_sensitivity)\n",
    "\n",
    "        pred_img = block_reduce(pred_img, (2,2), np.mean)\n",
    "        target_img = block_reduce(target_img, (2, 2), np.mean)\n",
    "\n",
    "    mcs_list[-1] = sim\n",
    "    mcs_stack = np.stack(mcs_list)\n",
    "\n",
    "    betas = np.array(betas).reshape(-1,1)\n",
    "    mcs_weighted = mcs_stack**betas\n",
    "    return np.prod(mcs_weighted, axis=0)\n",
    "\n"
   ]
  },
  {
   "cell_type": "code",
   "execution_count": 9,
   "metadata": {},
   "outputs": [
    {
     "data": {
      "text/plain": [
       "tensor(0.8068)"
      ]
     },
     "execution_count": 9,
     "metadata": {},
     "output_type": "execute_result"
    }
   ],
   "source": [
    "from torchmetrics.image import StructuralSimilarityIndexMeasure\n",
    "import torch\n",
    "gt_torch = torch.Tensor(gt_tmp[None,None]*1.0)\n",
    "pred_torch = torch.Tensor(pred_tmp[None,None] * 1.0)\n",
    "ssim = StructuralSimilarityIndexMeasure(data_range=gt_torch.max() - gt_torch.min())\n",
    "ssim(pred_torch, gt_torch)"
   ]
  },
  {
   "cell_type": "code",
   "execution_count": 10,
   "metadata": {},
   "outputs": [
    {
     "name": "stdout",
     "output_type": "stream",
     "text": [
      "0.806612505838215\n"
     ]
    }
   ],
   "source": [
    "print(micro_SSIM(gt_tmp, pred_tmp, ri_factor=1.0, data_range=gt_tmp.max() - gt_tmp.min(), gaussian_weights=True))\n"
   ]
  },
  {
   "cell_type": "code",
   "execution_count": 11,
   "metadata": {},
   "outputs": [
    {
     "data": {
      "text/plain": [
       "0.806612505838215"
      ]
     },
     "execution_count": 11,
     "metadata": {},
     "output_type": "execute_result"
    }
   ],
   "source": [
    "from skimage.metrics import structural_similarity as ssim\n",
    "ssim(gt_tmp, pred_tmp, data_range=gt_tmp.max() - gt_tmp.min(), gaussian_weights=True)"
   ]
  },
  {
   "cell_type": "code",
   "execution_count": null,
   "metadata": {},
   "outputs": [],
   "source": []
  },
  {
   "cell_type": "code",
   "execution_count": 12,
   "metadata": {},
   "outputs": [
    {
     "data": {
      "text/plain": [
       "tensor(0.8136)"
      ]
     },
     "execution_count": 12,
     "metadata": {},
     "output_type": "execute_result"
    }
   ],
   "source": [
    "from torchmetrics.image import MultiScaleStructuralSimilarityIndexMeasure\n",
    "import torch\n",
    "gt_torch = torch.Tensor(gt_tmp[None,None]*1.0)\n",
    "pred_torch = torch.Tensor(pred_tmp[None,None] * 1.0)\n",
    "ms_ssim = MultiScaleStructuralSimilarityIndexMeasure(data_range=gt_torch.max() - gt_torch.min())\n",
    "ms_ssim(pred_torch, gt_torch)"
   ]
  },
  {
   "cell_type": "code",
   "execution_count": 13,
   "metadata": {},
   "outputs": [
    {
     "name": "stdout",
     "output_type": "stream",
     "text": [
      "[0.82303994]\n"
     ]
    }
   ],
   "source": [
    "print(micro_MS_SSIM(gt_tmp, pred_tmp, ri_factor=1.0, data_range=gt_tmp.max() - gt_tmp.min()))"
   ]
  },
  {
   "cell_type": "code",
   "execution_count": null,
   "metadata": {},
   "outputs": [],
   "source": []
  }
 ],
 "metadata": {
  "kernelspec": {
   "display_name": "Python 3",
   "language": "python",
   "name": "python3"
  },
  "language_info": {
   "codemirror_mode": {
    "name": "ipython",
    "version": 3
   },
   "file_extension": ".py",
   "mimetype": "text/x-python",
   "name": "python",
   "nbconvert_exporter": "python",
   "pygments_lexer": "ipython3",
   "version": "3.9.19"
  }
 },
 "nbformat": 4,
 "nbformat_minor": 2
}
